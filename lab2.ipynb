{
  "cells": [
    {
      "cell_type": "markdown",
      "metadata": {
        "id": "__vV9MRBg4tG"
      },
      "source": [
        "# Lab2 - Concrete compressive strength regression (35 marks total)\n",
        "Author: Steven Duong (30022492)"
      ]
    },
    {
      "cell_type": "code",
      "execution_count": null,
      "metadata": {
        "id": "XjIpv2j9g4tH"
      },
      "outputs": [],
      "source": [
        "import numpy as np\n",
        "import pandas as pd\n",
        "import matplotlib.pyplot as plt\n",
        "import seaborn as sns"
      ]
    },
    {
      "cell_type": "markdown",
      "metadata": {
        "id": "0eIoEUxXg4tI"
      },
      "source": [
        "## 0. Function definitions (2 marks)\n",
        "\n",
        "To find the best model, we follow the published article where root-mean squared error (rms) was used as a score function. The rms score function needs to be minimized, because the optimal score is 0, larger values are worse performances\n",
        "\n",
        "In scikit-learn, only *maximization* is implemented. Hence, it is customary to maximize the *negative* rms. scitkit-learn provides a scoring function `neg_root_mean_squared_error`"
      ]
    },
    {
      "cell_type": "code",
      "execution_count": 2,
      "metadata": {
        "id": "YLwEb0mVg4tI"
      },
      "outputs": [],
      "source": [
        "from sklearn.model_selection import cross_validate\n",
        "\n",
        "\n",
        "def get_regressor_neg_rms(model, X, y, cv=7):\n",
        "    '''Calculate train and validation score for regressor (model) using cross-validation\n",
        "        \n",
        "        score is negative root mean-squared error (rms)\n",
        "        \n",
        "        model (sklearn classifier): Regressor to train and evaluate\n",
        "        X (numpy.array or pandas.DataFrame): Feature matrix\n",
        "        y (numpy.array or pandas.Series): Target vector\n",
        "        \n",
        "        returns: mean training negative rms, mean validation negative rms\n",
        "    \n",
        "    '''\n",
        "    \n",
        "    scoring = ['neg_root_mean_squared_error']\n",
        "    score_cv = cross_validate(estimator=model, X=X, y=y, cv=cv, scoring=scoring, return_train_score=True)\n",
        "\n",
        "    mean_train = score_cv['train_' + scoring[0]].mean()\n",
        "    mean_test = score_cv['test_' + scoring[0]].mean()\n",
        "\n",
        "    return (mean_train, mean_test)\n",
        "    "
      ]
    },
    {
      "cell_type": "markdown",
      "metadata": {
        "id": "YtOF7VtTg4tI"
      },
      "source": [
        "## 1. Load data (1 mark each for 3 total marks)\n",
        "yellowbrick concrete  \n",
        "https://www.scikit-yb.org/en/latest/api/datasets/concrete.html\n",
        "\n",
        "Load the Dataset object with `load_concrete()` using `return_dataset=True`\n",
        "\n",
        "Print the README of the Dataset object\n"
      ]
    },
    {
      "cell_type": "code",
      "execution_count": 10,
      "metadata": {
        "id": "sDe3JevNg4tJ",
        "colab": {
          "base_uri": "https://localhost:8080/"
        },
        "outputId": "158fc0f1-cba4-4c21-b0b7-d2548464f2f4"
      },
      "outputs": [
        {
          "output_type": "stream",
          "name": "stdout",
          "text": [
            "# Concrete Compressive Strength\n",
            "\n",
            "**Downloaded from the UCI Machine Learning Repository on October 13, 2016.**\n",
            "\n",
            "- Multivariate Data Set\n",
            "- Real Attributes\n",
            "- 1,030 Instances\n",
            "- 9 attributes\n",
            "- Well suited for _regression_ tasks\n",
            "- [https://archive.ics.uci.edu/ml/datasets/Concrete+Compressive+Strength](https://archive.ics.uci.edu/ml/datasets/Concrete+Compressive+Strength)\n",
            "\n",
            "## Abstract\n",
            "\n",
            "Concrete is the most important material in civil engineering. The concrete compressive strength is a highly nonlinear function of age and ingredients.\n",
            "\n",
            "## Description\n",
            "\n",
            "Given are the variable name, variable type, the measurement unit and a brief description. The concrete compressive strength is the regression problem. The order of this listing corresponds to the order of numerals along the rows of the database.\n",
            "\n",
            "## Attributes\n",
            "\n",
            "- cement (kg)\n",
            "- blast furnace slag (kg)\n",
            "- fly ash (kg)\n",
            "- water (kg)\n",
            "- superplasticizer (kg)\n",
            "- coarse aggregate (kg)\n",
            "- fine aggregate (kg)\n",
            "- age (day)\n",
            "- compressive strength (MPa)\n",
            "\n",
            "## Citation\n",
            "\n",
            "Yeh, I-C. \"Modeling of strength of high-performance concrete using artificial neural networks.\" Cement and Concrete research 28.12 (1998): 1797-1808.\n"
          ]
        }
      ],
      "source": [
        "from yellowbrick.datasets.loaders import load_concrete\n",
        "\n",
        "# Load concrete dataset\n",
        "concrete_data = load_concrete(return_dataset=True)\n",
        "\n",
        "# Printing the README of the Dataset object\n",
        "print(concrete_data.README)\n"
      ]
    },
    {
      "cell_type": "markdown",
      "metadata": {
        "id": "hYI24e9Fg4tJ"
      },
      "source": [
        "### *Question 1:* What is the target variable name and units in this dataset?"
      ]
    },
    {
      "cell_type": "markdown",
      "metadata": {
        "id": "YWrNARG_g4tJ"
      },
      "source": [
        "The target variable name is **concrete compressive strength** and the unit is **MPA**.\n"
      ]
    },
    {
      "cell_type": "markdown",
      "metadata": {
        "id": "UsLrZ4Ung4tJ"
      },
      "source": [
        "### 1.1 Prepare the feature matrix and target vector\n",
        "Load the concrete data set into feature matrix `X` and target vector `y`\n",
        "\n",
        "Print dimensions and type of `X`, `y`"
      ]
    },
    {
      "cell_type": "code",
      "execution_count": 17,
      "metadata": {
        "id": "9kyQXVIzg4tJ",
        "colab": {
          "base_uri": "https://localhost:8080/"
        },
        "outputId": "de6cefd9-7096-42d8-9c31-f7b6adbd8170"
      },
      "outputs": [
        {
          "output_type": "stream",
          "name": "stdout",
          "text": [
            "Dimensions of X:\n",
            "(1030, 8)\n",
            "Type of X:\n",
            "<class 'pandas.core.frame.DataFrame'>\n",
            "\n",
            "Dimensions of y:\n",
            "(1030,)\n",
            "Type of y:\n",
            "<class 'pandas.core.series.Series'>\n"
          ]
        }
      ],
      "source": [
        "# Load concrete dataset into feature matrix X and target vector y\n",
        "X, y = concrete_data.to_data()\n",
        "\n",
        "# Printing the dimensions and type of X and y\n",
        "print(f\"Dimensions of X:\\n{X.shape}\\nType of X:\\n{type(X)}\")\n",
        "print(f\"\\nDimensions of y:\\n{y.shape}\\nType of y:\\n{type(y)}\")\n"
      ]
    },
    {
      "cell_type": "markdown",
      "metadata": {
        "id": "T8eNBNeVg4tJ"
      },
      "source": [
        "## 2. Inspect the data (1 mark each for 4 total marks)"
      ]
    },
    {
      "cell_type": "markdown",
      "metadata": {
        "id": "BImczWAJg4tJ"
      },
      "source": [
        "### 2.1 Range of each feature\n",
        "To get an idea if the features are on the same scale, we inspect the range of features\n",
        "\n",
        "Print the minimum and maximum of each feature in `X`"
      ]
    },
    {
      "cell_type": "code",
      "execution_count": 20,
      "metadata": {
        "id": "zMxXgsazg4tK",
        "colab": {
          "base_uri": "https://localhost:8080/",
          "height": 300
        },
        "outputId": "8a0d3eca-804f-4c95-9288-028a3a691291"
      },
      "outputs": [
        {
          "output_type": "execute_result",
          "data": {
            "text/plain": [
              "           min     max\n",
              "cement  102.00   540.0\n",
              "slag      0.00   359.4\n",
              "ash       0.00   200.1\n",
              "water   121.75   247.0\n",
              "splast    0.00    32.2\n",
              "coarse  801.00  1145.0\n",
              "fine    594.00   992.6\n",
              "age       1.00   365.0"
            ],
            "text/html": [
              "\n",
              "  <div id=\"df-bdebff6b-b91d-4f03-90f7-1cb3772a8f7f\">\n",
              "    <div class=\"colab-df-container\">\n",
              "      <div>\n",
              "<style scoped>\n",
              "    .dataframe tbody tr th:only-of-type {\n",
              "        vertical-align: middle;\n",
              "    }\n",
              "\n",
              "    .dataframe tbody tr th {\n",
              "        vertical-align: top;\n",
              "    }\n",
              "\n",
              "    .dataframe thead th {\n",
              "        text-align: right;\n",
              "    }\n",
              "</style>\n",
              "<table border=\"1\" class=\"dataframe\">\n",
              "  <thead>\n",
              "    <tr style=\"text-align: right;\">\n",
              "      <th></th>\n",
              "      <th>min</th>\n",
              "      <th>max</th>\n",
              "    </tr>\n",
              "  </thead>\n",
              "  <tbody>\n",
              "    <tr>\n",
              "      <th>cement</th>\n",
              "      <td>102.00</td>\n",
              "      <td>540.0</td>\n",
              "    </tr>\n",
              "    <tr>\n",
              "      <th>slag</th>\n",
              "      <td>0.00</td>\n",
              "      <td>359.4</td>\n",
              "    </tr>\n",
              "    <tr>\n",
              "      <th>ash</th>\n",
              "      <td>0.00</td>\n",
              "      <td>200.1</td>\n",
              "    </tr>\n",
              "    <tr>\n",
              "      <th>water</th>\n",
              "      <td>121.75</td>\n",
              "      <td>247.0</td>\n",
              "    </tr>\n",
              "    <tr>\n",
              "      <th>splast</th>\n",
              "      <td>0.00</td>\n",
              "      <td>32.2</td>\n",
              "    </tr>\n",
              "    <tr>\n",
              "      <th>coarse</th>\n",
              "      <td>801.00</td>\n",
              "      <td>1145.0</td>\n",
              "    </tr>\n",
              "    <tr>\n",
              "      <th>fine</th>\n",
              "      <td>594.00</td>\n",
              "      <td>992.6</td>\n",
              "    </tr>\n",
              "    <tr>\n",
              "      <th>age</th>\n",
              "      <td>1.00</td>\n",
              "      <td>365.0</td>\n",
              "    </tr>\n",
              "  </tbody>\n",
              "</table>\n",
              "</div>\n",
              "      <button class=\"colab-df-convert\" onclick=\"convertToInteractive('df-bdebff6b-b91d-4f03-90f7-1cb3772a8f7f')\"\n",
              "              title=\"Convert this dataframe to an interactive table.\"\n",
              "              style=\"display:none;\">\n",
              "        \n",
              "  <svg xmlns=\"http://www.w3.org/2000/svg\" height=\"24px\"viewBox=\"0 0 24 24\"\n",
              "       width=\"24px\">\n",
              "    <path d=\"M0 0h24v24H0V0z\" fill=\"none\"/>\n",
              "    <path d=\"M18.56 5.44l.94 2.06.94-2.06 2.06-.94-2.06-.94-.94-2.06-.94 2.06-2.06.94zm-11 1L8.5 8.5l.94-2.06 2.06-.94-2.06-.94L8.5 2.5l-.94 2.06-2.06.94zm10 10l.94 2.06.94-2.06 2.06-.94-2.06-.94-.94-2.06-.94 2.06-2.06.94z\"/><path d=\"M17.41 7.96l-1.37-1.37c-.4-.4-.92-.59-1.43-.59-.52 0-1.04.2-1.43.59L10.3 9.45l-7.72 7.72c-.78.78-.78 2.05 0 2.83L4 21.41c.39.39.9.59 1.41.59.51 0 1.02-.2 1.41-.59l7.78-7.78 2.81-2.81c.8-.78.8-2.07 0-2.86zM5.41 20L4 18.59l7.72-7.72 1.47 1.35L5.41 20z\"/>\n",
              "  </svg>\n",
              "      </button>\n",
              "      \n",
              "  <style>\n",
              "    .colab-df-container {\n",
              "      display:flex;\n",
              "      flex-wrap:wrap;\n",
              "      gap: 12px;\n",
              "    }\n",
              "\n",
              "    .colab-df-convert {\n",
              "      background-color: #E8F0FE;\n",
              "      border: none;\n",
              "      border-radius: 50%;\n",
              "      cursor: pointer;\n",
              "      display: none;\n",
              "      fill: #1967D2;\n",
              "      height: 32px;\n",
              "      padding: 0 0 0 0;\n",
              "      width: 32px;\n",
              "    }\n",
              "\n",
              "    .colab-df-convert:hover {\n",
              "      background-color: #E2EBFA;\n",
              "      box-shadow: 0px 1px 2px rgba(60, 64, 67, 0.3), 0px 1px 3px 1px rgba(60, 64, 67, 0.15);\n",
              "      fill: #174EA6;\n",
              "    }\n",
              "\n",
              "    [theme=dark] .colab-df-convert {\n",
              "      background-color: #3B4455;\n",
              "      fill: #D2E3FC;\n",
              "    }\n",
              "\n",
              "    [theme=dark] .colab-df-convert:hover {\n",
              "      background-color: #434B5C;\n",
              "      box-shadow: 0px 1px 3px 1px rgba(0, 0, 0, 0.15);\n",
              "      filter: drop-shadow(0px 1px 2px rgba(0, 0, 0, 0.3));\n",
              "      fill: #FFFFFF;\n",
              "    }\n",
              "  </style>\n",
              "\n",
              "      <script>\n",
              "        const buttonEl =\n",
              "          document.querySelector('#df-bdebff6b-b91d-4f03-90f7-1cb3772a8f7f button.colab-df-convert');\n",
              "        buttonEl.style.display =\n",
              "          google.colab.kernel.accessAllowed ? 'block' : 'none';\n",
              "\n",
              "        async function convertToInteractive(key) {\n",
              "          const element = document.querySelector('#df-bdebff6b-b91d-4f03-90f7-1cb3772a8f7f');\n",
              "          const dataTable =\n",
              "            await google.colab.kernel.invokeFunction('convertToInteractive',\n",
              "                                                     [key], {});\n",
              "          if (!dataTable) return;\n",
              "\n",
              "          const docLinkHtml = 'Like what you see? Visit the ' +\n",
              "            '<a target=\"_blank\" href=https://colab.research.google.com/notebooks/data_table.ipynb>data table notebook</a>'\n",
              "            + ' to learn more about interactive tables.';\n",
              "          element.innerHTML = '';\n",
              "          dataTable['output_type'] = 'display_data';\n",
              "          await google.colab.output.renderOutput(dataTable, element);\n",
              "          const docLink = document.createElement('div');\n",
              "          docLink.innerHTML = docLinkHtml;\n",
              "          element.appendChild(docLink);\n",
              "        }\n",
              "      </script>\n",
              "    </div>\n",
              "  </div>\n",
              "  "
            ]
          },
          "metadata": {},
          "execution_count": 20
        }
      ],
      "source": [
        "# Aggregating the data and printing the min and max of each feature.\n",
        "# Transposing the table for better visualization.\n",
        "X.aggregate(['min', 'max']).T\n"
      ]
    },
    {
      "cell_type": "markdown",
      "metadata": {
        "id": "7BaMCGiVg4tK"
      },
      "source": [
        "### 2.2 Boxplot of features \n",
        "Using seaborn boxplot, plot all features. This provides a visual view of feature ranges\n",
        "\n",
        "Add y-axis label indicating units, and a title"
      ]
    },
    {
      "cell_type": "code",
      "execution_count": 26,
      "metadata": {
        "id": "CJsOBW_Wg4tK",
        "colab": {
          "base_uri": "https://localhost:8080/",
          "height": 369
        },
        "outputId": "27c985ae-2ccb-4fad-99b9-3b23d2c91f64"
      },
      "outputs": [
        {
          "output_type": "display_data",
          "data": {
            "text/plain": [
              "<Figure size 576x396 with 1 Axes>"
            ],
            "image/png": "[encoded data removed]"
          },
          "metadata": {}
        }
      ],
      "source": [
        "# Plotting using seaborn boxplot\n",
        "import seaborn as sns\n",
        "\n",
        "# Create a boxplot for each feature\n",
        "sns.set(style=\"whitegrid\")\n",
        "ax = sns.boxplot(data=X, orient=\"v\", palette=\"Set2\")\n",
        "ax.set_ylabel(\"Age: day, Rest of features: kg\")\n",
        "ax.set_title(\"Feature Ranges for Concrete Dataset\");\n"
      ]
    },
    {
      "cell_type": "markdown",
      "metadata": {
        "id": "q1HGaS51g4tK"
      },
      "source": [
        "### 2.3 Correlation heatmap of features \n",
        "\n",
        "To understand if pairs of features are potentially related, contain similar information, pair-wise cross-correlation can be calculated. Models benefit most from un-correlated features.\n",
        "\n",
        "Using pandas `corr()` method, create the cross-correlations between all features. Plot this cross-correlation object using seaborn `heatmap()` with parameters `vmin=-1, vmax=1, annot=True, cmap='BrBG'`. Add a title.\n",
        "\n",
        "Pandas `corr()` calculates [Pearson correlation ](https://en.wikipedia.org/wiki/Pearson_correlation_coefficient) :\n",
        ">  It has a value between +1 and −1. A value of +1 is total positive linear correlation, 0 is no linear correlation, and −1 is total negative linear correlation."
      ]
    },
    {
      "cell_type": "code",
      "execution_count": 28,
      "metadata": {
        "id": "tVUR6n8Eg4tK",
        "colab": {
          "base_uri": "https://localhost:8080/",
          "height": 357
        },
        "outputId": "c4106280-67f9-4c02-b4a5-a236810610c7"
      },
      "outputs": [
        {
          "output_type": "display_data",
          "data": {
            "text/plain": [
              "<Figure size 576x396 with 2 Axes>"
            ],
            "image/png": "[encoded data removed]"
          },
          "metadata": {}
        }
      ],
      "source": [
        "# Creating pairwise cross-correlation heatmap of features\n",
        "X_corr = X.corr()\n",
        "\n",
        "# Plotting the heatmap\n",
        "sns.heatmap(data=X_corr, vmin=-1, vmax=1, annot=True, cmap='BrBG');"
      ]
    },
    {
      "cell_type": "markdown",
      "metadata": {
        "id": "an499jrIg4tK"
      },
      "source": [
        "### 2.4 Histogram of target variable \n",
        "\n",
        "To understand if all target values are equally represented in the data, we analyze how many samples of each target value we have available. The histogram of the target vector can visualize this distribution.\n",
        "\n",
        "Using seaborn `displot()`, plot the histogram of the target vector. Add a title."
      ]
    },
    {
      "cell_type": "code",
      "execution_count": 32,
      "metadata": {
        "id": "7lO3m9MXg4tL",
        "colab": {
          "base_uri": "https://localhost:8080/",
          "height": 379
        },
        "outputId": "a8e24e6c-fea8-4016-e021-74fca4b7c4a3"
      },
      "outputs": [
        {
          "output_type": "display_data",
          "data": {
            "text/plain": [
              "<Figure size 360x360 with 1 Axes>"
            ],
            "image/png": "[encoded data removed]"
          },
          "metadata": {}
        }
      ],
      "source": [
        "import matplotlib.pyplot as plt\n",
        "\n",
        "# Plotting the histogram of the target vector\n",
        "sns.displot(data=y)\n",
        "\n",
        "# Adding the title\n",
        "plt.title(\"Distribution of Target Values for Concrete Dataset\");\n"
      ]
    },
    {
      "cell_type": "markdown",
      "metadata": {
        "id": "4x1G4sF8g4tL"
      },
      "source": [
        "## 3. Create training and test sets (1 mark)\n",
        "\n",
        "Using scikit-learn `train_test_split()` with parameters `random_state=37`, `test_size=0.2`, split `X` and `y` into training and test sets"
      ]
    },
    {
      "cell_type": "code",
      "execution_count": 34,
      "metadata": {
        "id": "LnDpjtaxg4tL"
      },
      "outputs": [],
      "source": [
        "from sklearn.model_selection import train_test_split"
      ]
    },
    {
      "cell_type": "code",
      "execution_count": 35,
      "metadata": {
        "id": "bhqmlKBLg4tL"
      },
      "outputs": [],
      "source": [
        "# Splitting the data into training and validation sets\n",
        "X_train, X_test, y_train, y_test = train_test_split(X, y, random_state=37, test_size=0.2)\n"
      ]
    },
    {
      "cell_type": "markdown",
      "metadata": {
        "id": "Xe3HDAtug4tL"
      },
      "source": [
        "## 4. Compare models using cross-validation (3 marks)\n",
        "\n",
        "Create a list containing a `LinearRegression()`, `RandomForestRegressor(random_state=64)` and `GradientBoostingRegressor(random_state=79)` objects.\n",
        "\n",
        "Iterate this list and:\n",
        "- using `X_train` and `y_train`\n",
        "- compute the negative root mean-squared error using the `get_regressor_neg_rms()` function\n",
        "- and print the training and validation scores with **2 decimal places**\n",
        "- Use 7-fold cross-validation"
      ]
    },
    {
      "cell_type": "code",
      "execution_count": 37,
      "metadata": {
        "id": "npQjq9g2g4tL"
      },
      "outputs": [],
      "source": [
        "from sklearn.linear_model import LinearRegression\n",
        "from sklearn.ensemble import RandomForestRegressor, GradientBoostingRegressor"
      ]
    },
    {
      "cell_type": "code",
      "execution_count": 46,
      "metadata": {
        "id": "oWEWnw3Ag4tL",
        "colab": {
          "base_uri": "https://localhost:8080/"
        },
        "outputId": "4f0fc88b-a3d8-483f-fba9-eda6dd24f535"
      },
      "outputs": [
        {
          "output_type": "stream",
          "name": "stdout",
          "text": [
            "LinearRegression model\n",
            " 1. RMSE Training Score: -10.29\n",
            " 2. RMSE Validation Score: -10.39\n",
            "\n",
            "RandomForestRegressor model\n",
            " 1. RMSE Training Score: -2.12\n",
            " 2. RMSE Validation Score: -4.97\n",
            "\n",
            "GradientBoostingRegressor model\n",
            " 1. RMSE Training Score: -3.69\n",
            " 2. RMSE Validation Score: -4.98\n",
            "\n"
          ]
        }
      ],
      "source": [
        "# List of regression models\n",
        "regression_models = [LinearRegression(), RandomForestRegressor(random_state=64), GradientBoostingRegressor(random_state=79)]\n",
        "\n",
        "# Iterating the list of regression models\n",
        "for model in regression_models:\n",
        "\n",
        "  # Printing regression model label\n",
        "  print(f\"{model.__class__.__name__} model\")\n",
        "\n",
        "  # Calculating the training and test scores\n",
        "  train_score, test_score = get_regressor_neg_rms(model, X_train, y_train, 7)\n",
        "\n",
        "  # Printing the scores\n",
        "  print(\" 1. RMSE Training Score: {0:.2f}\".format(train_score))\n",
        "  print(\" 2. RMSE Validation Score: {0:.2f}\\n\".format(test_score))\n"
      ]
    },
    {
      "cell_type": "markdown",
      "metadata": {
        "id": "R0Uxr8-yg4tL"
      },
      "source": [
        "### *Question 2:* For each of the three models, state if models are potentially over- or underfitting and why (3 marks)"
      ]
    },
    {
      "cell_type": "markdown",
      "metadata": {
        "id": "-m7fn37Pg4tL"
      },
      "source": [
        "1. **Linear Regression:** The model is potentially underfitting. This is due to the training and validation RMSE scores being very high (in negative terms). This means that the model complexity is low with high bias.\n",
        "\n",
        "2. **RandomForestRegressor:** The model is potentially overfitting. This is due to the training RMSE score being noticeably better than the RMSE validation score with a high variance.\n",
        "\n",
        "3. **GradientBoostingRegressor:** The model is potentially overfitting. This is due to the RMSE training score being lower than the validation RMSE score with a high variance.\n"
      ]
    },
    {
      "cell_type": "markdown",
      "metadata": {
        "id": "KBUUQje6g4tM"
      },
      "source": [
        "## 5. Find a better model (3 marks)\n",
        "\n",
        "Use the `RandomForestRegressor(random_state=64)` and find the best combination of `max_depth` from the list of `[10, 15, 20]`, and `n_estimators` from the list of `[100, 200, 400]`\n",
        "\n",
        "Use nested for-loops to iterate these two lists:\n",
        "- using `X_train` and `y_train`\n",
        "- compute the negative root mean-squared error of the corresponding `RandomForestRegressor(random_state=64)` using the `get_regressor_neg_rms()` function \n",
        "- and print the training and validation scores with **2 decimal places**\n",
        "- Use 7-fold cross-validation\n",
        "\n",
        "Report the best validation score and the corresponding model\n",
        "\n",
        "Note: We expect that more trees (larger `n_estimators`) yield better model performance"
      ]
    },
    {
      "cell_type": "code",
      "execution_count": 53,
      "metadata": {
        "id": "juTHPyPyg4tM",
        "colab": {
          "base_uri": "https://localhost:8080/"
        },
        "outputId": "60e17e26-0462-4e74-989f-4103ec79edf6"
      },
      "outputs": [
        {
          "output_type": "stream",
          "name": "stdout",
          "text": [
            "   max_depth  n_estimators  train_score  test_score\n",
            "0         10           100        -2.44       -5.09\n",
            "1         10           200        -2.42       -5.06\n",
            "2         10           400        -2.41       -5.06\n",
            "3         15           100        -2.12       -4.97\n",
            "4         15           200        -2.11       -4.93\n",
            "5         15           400        -2.10       -4.93\n",
            "6         20           100        -2.12       -4.97\n",
            "7         20           200        -2.11       -4.93\n",
            "8         20           400        -2.09       -4.92\n"
          ]
        }
      ],
      "source": [
        "import pandas as pd\n",
        "\n",
        "# List of hyperparameter values\n",
        "max_depth = [10, 15, 20]\n",
        "n_estimators = [100, 200, 400]\n",
        "\n",
        "# Create an empty list to hold the results\n",
        "results = []\n",
        "\n",
        "for m in max_depth:\n",
        "    for n in n_estimators:\n",
        "\n",
        "        # Creating random forest regressor\n",
        "        rfr = RandomForestRegressor(n_estimators=n, max_depth=m, random_state=64)\n",
        "\n",
        "        # negative RMSE scores\n",
        "        train_score, test_score = get_regressor_neg_rms(rfr, X_train, y_train, 7)\n",
        "\n",
        "        # Add the results to the list as a dictionary\n",
        "        results.append({\"max_depth\": m, \"n_estimators\": n, \"train_score\": train_score, \"test_score\": test_score})\n",
        "\n",
        "# Create a DataFrame from the list of dictionaries\n",
        "df = pd.DataFrame(results)\n",
        "\n",
        "# Format the train_score and test_score columns to 2 decimal places\n",
        "df[\"train_score\"] = df[\"train_score\"].round(2)\n",
        "df[\"test_score\"] = df[\"test_score\"].round(2)\n",
        "\n",
        "# Print the DataFrame\n",
        "print(df)"
      ]
    },
    {
      "cell_type": "markdown",
      "metadata": {
        "id": "AgiKEDYqg4tM"
      },
      "source": [
        "### *Question 3:* Which combination of `max_depth` and `n_estimators` produced the best validation score? Report both training and validation scores here (2 marks)"
      ]
    },
    {
      "cell_type": "markdown",
      "metadata": {
        "id": "3Jaj6guNg4tM"
      },
      "source": [
        "The following combinaion of max_depth and n_estimators procduced the best validaiton score:\n",
        "\n",
        "**max_depth:** 20\\\n",
        "**n_estimators:** 400\n"
      ]
    },
    {
      "cell_type": "markdown",
      "metadata": {
        "id": "ZFCfe9ozg4tM"
      },
      "source": [
        "## 6. Retrain best model (2 marks)\n",
        "\n",
        "Create a `RandomForestRegressor(random_state=64)` with the best pair of `max_depth` and `n_estimators`, and retrain this model on all training data."
      ]
    },
    {
      "cell_type": "code",
      "execution_count": 54,
      "metadata": {
        "id": "-oF1scuog4tM",
        "colab": {
          "base_uri": "https://localhost:8080/"
        },
        "outputId": "be257f3d-7e7b-4627-a7db-f793b238d705"
      },
      "outputs": [
        {
          "output_type": "execute_result",
          "data": {
            "text/plain": [
              "RandomForestRegressor(max_depth=20, n_estimators=400, random_state=64)"
            ]
          },
          "metadata": {},
          "execution_count": 54
        }
      ],
      "source": [
        "# Creating a new model with the best pair of hyperparameters\n",
        "model = RandomForestRegressor(random_state=64, max_depth=20, n_estimators=400)\n",
        "\n",
        "# Fitting the model on the training data\n",
        "model.fit(X_train, y_train)"
      ]
    },
    {
      "cell_type": "markdown",
      "metadata": {
        "id": "4i6bllGZg4tM"
      },
      "source": [
        "## 7. Evaluate best model on training and test data\n",
        "### 7.1 Root mean-squared error and $R^2$ (3 marks)\n",
        "\n",
        "For the retrained best estimator, print the root mean-squared error (**2 decimal places**) and R-squared (**3 decimal places**) for training and test sets."
      ]
    },
    {
      "cell_type": "code",
      "execution_count": 55,
      "metadata": {
        "id": "UZVenwqjg4tM"
      },
      "outputs": [],
      "source": [
        "from sklearn.metrics import mean_squared_error, r2_score"
      ]
    },
    {
      "cell_type": "code",
      "execution_count": 73,
      "metadata": {
        "id": "J8ylMD0Jg4tM",
        "colab": {
          "base_uri": "https://localhost:8080/"
        },
        "outputId": "1a30b8ce-1a92-4bdb-9289-45553d3685dd"
      },
      "outputs": [
        {
          "output_type": "stream",
          "name": "stdout",
          "text": [
            "Training Set:\n",
            "Root mean-squared error = 2.00 MPa\n",
            "R-squared = 0.986\n",
            "\n",
            "Test Set:\n",
            "Root mean-squared error = 4.80 MPa\n",
            "R-squared = 0.915\n"
          ]
        }
      ],
      "source": [
        "import numpy as np\n",
        "\n",
        "# Predicting the data on the training set\n",
        "y_train_pred = model.predict(X_train)\n",
        "\n",
        "# Obtain training rms\n",
        "rms_train = np.sqrt(mean_squared_error(y_train, y_train_pred))\n",
        "\n",
        "# Obtain training r2\n",
        "r2_train = r2_score(y_train, y_train_pred)\n",
        "\n",
        "# Predicting the data on the validation set\n",
        "y_test_pred = model.predict(X_test)\n",
        "\n",
        "# Obtain testing rms\n",
        "rms_test = np.sqrt(mean_squared_error(y_test, y_test_pred))\n",
        "\n",
        "# Obtain testing r2\n",
        "r2_test = r2_score(y_test, y_test_pred)\n",
        "\n",
        "# Printing the rms and r-squared values\n",
        "print(\"Training Set:\\nRoot mean-squared error = {0:.2f} MPa\\nR-squared = {1:.3f}\".format(rms_train, r2_train))\n",
        "print(\"\\nTest Set:\\nRoot mean-squared error = {0:.2f} MPa\\nR-squared = {1:.3f}\".format(rms_test, r2_test))\n"
      ]
    },
    {
      "cell_type": "markdown",
      "metadata": {
        "id": "JSNNyKJwg4tM"
      },
      "source": [
        "### *Question 4:* How does this test score compare to the polynomial regression and neural network reported in the article? Do we outperform the reported models? Include scores in your answer. (2 marks)"
      ]
    },
    {
      "cell_type": "markdown",
      "metadata": {
        "id": "V3LAigjfg4tM"
      },
      "source": [
        "This model outperforms the polynomial regression with a lower RMS error and a R2 value that is closer to 1 for the testing data.\n",
        "\n",
        "This model falls behind the neural network since the testing data in the neural network has a lower RMSE and R2 value that is closer to 1."
      ]
    },
    {
      "cell_type": "markdown",
      "metadata": {
        "id": "l7CDywsHg4tM"
      },
      "source": [
        "### 7.2 Predicted vs actual strength plot (1 mark)\n",
        "Using a scatterplot, show predicted strength on the x axis and actual strength on the y axis with data from the test set. With this plot, we can see where we make errors.\n",
        "\n",
        "Add a line of unity (diagonal with slope 1 and offset 0). Ideally, all points would be on this line. We look for points being distributed equally around the line of unity.\n",
        "\n",
        "Add x-axis, y-axis labels including units, and a title.\n"
      ]
    },
    {
      "cell_type": "code",
      "execution_count": 69,
      "metadata": {
        "id": "fpoN3WHjg4tM",
        "colab": {
          "base_uri": "https://localhost:8080/",
          "height": 386
        },
        "outputId": "2ca00ec4-7e0b-478e-d9d1-9526e7ecf82c"
      },
      "outputs": [
        {
          "output_type": "display_data",
          "data": {
            "text/plain": [
              "<Figure size 576x396 with 1 Axes>"
            ],
            "image/png": "[encoded data removed]"
          },
          "metadata": {}
        }
      ],
      "source": [
        "# Create scatter plot of predicted strength versus actual strength\n",
        "sns.scatterplot(x=y_test_pred, y=y_test)\n",
        "\n",
        "# Add line of unity\n",
        "xmin, xmax = plt.xlim()\n",
        "ymin, ymax = plt.ylim()\n",
        "minval = min(xmin, ymin)\n",
        "maxval = max(xmax, ymax)\n",
        "plt.plot([minval, maxval], [minval, maxval], 'r')\n",
        "\n",
        "# Add axis labels and title\n",
        "plt.xlabel(\"Predicted Strength (MPa)\")\n",
        "plt.ylabel(\"Actual Strength (MPa)\")\n",
        "plt.title(\"Predicted vs Actual Strength on Test Set\")\n",
        "\n",
        "# Show the plot\n",
        "plt.show()\n"
      ]
    },
    {
      "cell_type": "markdown",
      "metadata": {
        "id": "B4d24Uo_g4tN"
      },
      "source": [
        "### 7.3 Residual plot (1 mark)\n",
        "Using a scatterplot, show predicted strength on the x axis and the *difference* between actual and predicted strength on the y axis with data from the test set. This is an alternative way to see where errors are made.\n",
        "\n",
        "We look for residuals being distributed equally around the zero horizontal line.\n",
        "\n",
        "Add x-axis, y-axis labels including units, and a title.\n",
        "\n"
      ]
    },
    {
      "cell_type": "code",
      "execution_count": 72,
      "metadata": {
        "id": "xRcdl8Upg4tN",
        "colab": {
          "base_uri": "https://localhost:8080/",
          "height": 386
        },
        "outputId": "58126d56-def5-4748-d78c-0d52d438b62c"
      },
      "outputs": [
        {
          "output_type": "display_data",
          "data": {
            "text/plain": [
              "<Figure size 576x396 with 1 Axes>"
            ],
            "image/png": "[encoded data removed]"
          },
          "metadata": {}
        }
      ],
      "source": [
        "import matplotlib.pyplot as plt\n",
        "\n",
        "# Predicting the data on the test set\n",
        "y_test_pred = model.predict(X_test)\n",
        "\n",
        "# Calculate the residuals\n",
        "residuals = y_test - y_test_pred\n",
        "\n",
        "# Create scatter plot of predicted strength versus residuals\n",
        "sns.scatterplot(x=y_test_pred, y=residuals)\n",
        "\n",
        "# Add a horizontal line at y = 0\n",
        "plt.axhline(0, color='r')\n",
        "\n",
        "# Add axis labels and title\n",
        "plt.xlabel(\"Predicted Strength (MPa)\")\n",
        "plt.ylabel(\"Residuals (MPa)\")\n",
        "plt.title(\"Predicted vs Residuals on Test Set\")\n",
        "\n",
        "# Show the plot\n",
        "plt.show()\n"
      ]
    },
    {
      "cell_type": "markdown",
      "metadata": {
        "id": "XRd20t__g4tN"
      },
      "source": [
        "## 8. Conclusion (3 marks)\n",
        "\n",
        "In conclusion, comment on the following items:\n",
        "1. Did we find a model that outperforms the polynomial regression reported in the reference article? Explain.\n",
        "1. Did we find a model that outperforms the neural network reported in the reference article? Explain.\n",
        "1. What were our assumption about the dataset and train/test split? How do these assumptions affect your conclusions?\n"
      ]
    },
    {
      "cell_type": "markdown",
      "metadata": {
        "id": "SjmXCFokg4tN"
      },
      "source": [
        "*YOUR ANSWER HERE*\n"
      ]
    },
    {
      "cell_type": "markdown",
      "metadata": {
        "id": "v16qYeZYg4tN"
      },
      "source": [
        "## 9. Reflection (2 marks)\n",
        "\n"
      ]
    },
    {
      "cell_type": "markdown",
      "metadata": {
        "id": "h8pJYx_1g4tN"
      },
      "source": [
        "Include a sentence or two about:\n",
        "- what you liked or disliked,\n",
        "- found interesting, confusing, challangeing, motivating while working on this assignment.\n",
        "\n",
        "*ADD YOUR THOUGHTS HERE*"
      ]
    },
    {
      "cell_type": "markdown",
      "metadata": {
        "id": "qV0ZMP34g4tN"
      },
      "source": [
        "# Appendix-A: Bonus - use grid search to find the best model parameters\n",
        "### (5 potential bonus marks)"
      ]
    },
    {
      "cell_type": "markdown",
      "metadata": {
        "id": "-ZlTqEjeg4tN"
      },
      "source": [
        "## A-0. Workflow overview"
      ]
    },
    {
      "cell_type": "code",
      "execution_count": null,
      "metadata": {
        "id": "mCPN51R_g4tN"
      },
      "outputs": [],
      "source": [
        "import mglearn\n",
        "mglearn.plots.plot_grid_search_overview()"
      ]
    },
    {
      "cell_type": "markdown",
      "metadata": {
        "id": "nT0ekfybg4tN"
      },
      "source": [
        "## A-1. Hyperparameter tuning using grid search (2 marks)\n",
        "\n",
        "The inital cross-validation above showed that both DecisionTree based models might have merit. Next, the hyperparameters are tuned using grid search."
      ]
    },
    {
      "cell_type": "markdown",
      "metadata": {
        "id": "wr1c-3EDg4tN"
      },
      "source": [
        "### A-1.1 Grid search for RandomForestRegressor\n",
        "\n",
        "Perform grid search using `GridSearchCV` for the `RandomForestRegressor(random_state=64)`.\n",
        "\n",
        "Grid search to use 7-fold cross-validation, and `neg_root_mean_squared_error` as the scoring function.\n",
        "\n",
        "Use the following hyperparameters and values:\n",
        "- `'n_estimators': [100, 200, 400]`\n",
        "- `'max_depth': [ 15, 17, 19, 21]`\n",
        "- `'max_features': ['auto', 'log2', None]`\n"
      ]
    },
    {
      "cell_type": "code",
      "execution_count": null,
      "metadata": {
        "id": "8Aanpymdg4tN"
      },
      "outputs": [],
      "source": [
        "# TODO: Setup grid search for RandomForestRegressor(random_state=64)\n"
      ]
    },
    {
      "cell_type": "code",
      "execution_count": null,
      "metadata": {
        "id": "DUOhB6aag4tN"
      },
      "outputs": [],
      "source": [
        "# TODO: perform the grid search by calling fit()\n"
      ]
    },
    {
      "cell_type": "code",
      "execution_count": null,
      "metadata": {
        "id": "dl4jQKBig4tO"
      },
      "outputs": [],
      "source": [
        "# TODO: Print the best parameters\n"
      ]
    },
    {
      "cell_type": "code",
      "execution_count": null,
      "metadata": {
        "id": "JKFh2lvNg4tO"
      },
      "outputs": [],
      "source": [
        "# TODO: Print the best score\n"
      ]
    },
    {
      "cell_type": "markdown",
      "metadata": {
        "id": "Iut25mAug4tO"
      },
      "source": [
        "### A-1.2 Grid search for gradient boosted tree\n",
        "\n",
        "Perform grid search using `GridSearchCV` for the `GradientBoostingRegressor(random_state=79)`.\n",
        "\n",
        "Grid search to use 7-fold cross-validation, and `neg_root_mean_squared_error` as the scoring function.\n",
        "\n",
        "Use the following hyperparameters and values:\n",
        "- `'n_estimators': [100, 200, 500]`\n",
        "- `'max_depth': [1, 3, 5, 7]`\n",
        "- `'learning_rate': [0.01, 0.1, 1.0]`"
      ]
    },
    {
      "cell_type": "code",
      "execution_count": null,
      "metadata": {
        "id": "vbtFtjtxg4tO"
      },
      "outputs": [],
      "source": [
        "# TODO: Setup grid search for GradientBoostingRegressor(random_state=79)\n"
      ]
    },
    {
      "cell_type": "code",
      "execution_count": null,
      "metadata": {
        "id": "khWuggsyg4tO"
      },
      "outputs": [],
      "source": [
        "# TODO: perform the grid search by calling fit()\n"
      ]
    },
    {
      "cell_type": "code",
      "execution_count": null,
      "metadata": {
        "id": "zAP3nqD5g4tO"
      },
      "outputs": [],
      "source": [
        "# TODO: Print the best parameters\n"
      ]
    },
    {
      "cell_type": "code",
      "execution_count": null,
      "metadata": {
        "id": "GVWKrSxZg4tO"
      },
      "outputs": [],
      "source": [
        "# TODO: Print the best score\n"
      ]
    },
    {
      "cell_type": "markdown",
      "metadata": {
        "id": "3USBA1R-g4tO"
      },
      "source": [
        "### *Question A-1:* Which of the two models produces the best score? What is the best score?"
      ]
    },
    {
      "cell_type": "markdown",
      "metadata": {
        "id": "EN2d2QLVg4tO"
      },
      "source": [
        "*YOUR ANSWER HERE*\n"
      ]
    },
    {
      "cell_type": "markdown",
      "metadata": {
        "id": "FM1km6JBg4tO"
      },
      "source": [
        "## A-2. Retrain best model (1 mark)\n",
        "\n",
        "Get the best estimator from the two grid searches above and retrain this model on all training data."
      ]
    },
    {
      "cell_type": "code",
      "execution_count": null,
      "metadata": {
        "id": "qgy_04Vlg4tO"
      },
      "outputs": [],
      "source": [
        "#TODO: retrain the best estimator\n",
        "\n"
      ]
    },
    {
      "cell_type": "markdown",
      "metadata": {
        "id": "IG2DGMLpg4tO"
      },
      "source": [
        "## A-3. Model evaluation and conclusion (1 mark)\n",
        "\n",
        "Repeat steps in Section 7 above for the best model.\n",
        "\n",
        "Revisit your Question 4."
      ]
    },
    {
      "cell_type": "code",
      "execution_count": null,
      "metadata": {
        "id": "S1GQuflag4tO"
      },
      "outputs": [],
      "source": [
        "#TODO: train and test set scores of retrained best model\n"
      ]
    },
    {
      "cell_type": "code",
      "execution_count": null,
      "metadata": {
        "id": "2LnDLJcng4tP"
      },
      "outputs": [],
      "source": [
        "#TODO: predicted-actual plot\n"
      ]
    },
    {
      "cell_type": "code",
      "execution_count": null,
      "metadata": {
        "id": "l1LlFucRg4tP"
      },
      "outputs": [],
      "source": [
        "# TODO: Residual plot\n"
      ]
    },
    {
      "cell_type": "markdown",
      "metadata": {
        "tags": [],
        "id": "jnr_0PYlg4tP"
      },
      "source": [
        "### *Question A-4:* How does this test score compare to the polynomial regression and neural network reported in the article? Do we outperform the reported models? (1 mark)"
      ]
    },
    {
      "cell_type": "markdown",
      "metadata": {
        "id": "twUhDLUyg4tP"
      },
      "source": [
        "*YOUR ANSWER HERE*\n"
      ]
    }
  ],
  "metadata": {
    "kernelspec": {
      "display_name": "Python 3 (ipykernel)",
      "language": "python",
      "name": "python3"
    },
    "language_info": {
      "codemirror_mode": {
        "name": "ipython",
        "version": 3
      },
      "file_extension": ".py",
      "mimetype": "text/x-python",
      "name": "python",
      "nbconvert_exporter": "python",
      "pygments_lexer": "ipython3",
      "version": "3.9.13"
    },
    "colab": {
      "provenance": []
    }
  },
  "nbformat": 4,
  "nbformat_minor": 0
}